{
 "cells": [
  {
   "cell_type": "markdown",
   "metadata": {},
   "source": [
    "## Basic Data Structure\n",
    "1. Tuple\n",
    "2. List\n",
    "3. Dictionary\n",
    "4. Set"
   ]
  },
  {
   "cell_type": "markdown",
   "metadata": {},
   "source": [
    "### Tuple\n",
    "Order collection of elements\n",
    "Enclosed in () / round braces\n",
    "Different element can be stored\n",
    "Once elements stroed not change ( unmutable)"
   ]
  },
  {
   "cell_type": "code",
   "execution_count": 2,
   "metadata": {},
   "outputs": [
    {
     "data": {
      "text/plain": [
       "tuple"
      ]
     },
     "execution_count": 2,
     "metadata": {},
     "output_type": "execute_result"
    }
   ],
   "source": [
    "tup1= (1, \"Python\", True , 2.4)\n",
    "tup1\n",
    "#type of tupple\n",
    "type(tup1)"
   ]
  },
  {
   "cell_type": "code",
   "execution_count": 11,
   "metadata": {},
   "outputs": [
    {
     "data": {
      "text/plain": [
       "(20, 30, 40, 60, 58, 85, 20, 30, 40, 60, 58, 85)"
      ]
     },
     "execution_count": 11,
     "metadata": {},
     "output_type": "execute_result"
    }
   ],
   "source": [
    "### -Indexing\n",
    "tup1[1]\n",
    "tup1[0:2]\n",
    "len(tup1)\n",
    "\n",
    "### Concatinate\n",
    "tup2 = (2,\"babaammar\",3.5,False)\n",
    "tup1 + tup2\n",
    "tup1*2 + tup2\n",
    "\n",
    "### Minimum / Maximum\n",
    "tup3 = ( 20,30,40,60,58,85)\n",
    "min(tup3)\n",
    "max(tup3)\n",
    "2*tup3"
   ]
  },
  {
   "cell_type": "code",
   "execution_count": 175,
   "metadata": {},
   "outputs": [
    {
     "name": "stdout",
     "output_type": "stream",
     "text": [
      "1 3 1 0\n"
     ]
    }
   ],
   "source": [
    "# For counting elements in tupple\n",
    "tup4 =  ( 20,30,20,40,60,58,20,85,30)\n",
    "print( tup2.count(3.5), tup4.count(20), tup4.count(58), tup4.count(22) )"
   ]
  },
  {
   "cell_type": "markdown",
   "metadata": {},
   "source": [
    "### LIST\n",
    "- Ordered collection of elements\n",
    "- enclosed in [] square bracket\n",
    "- Mutable, you can change the value"
   ]
  },
  {
   "cell_type": "code",
   "execution_count": 164,
   "metadata": {},
   "outputs": [
    {
     "name": "stdout",
     "output_type": "stream",
     "text": [
      "type =  <class 'list'>    length = 4    At index 2 is =  3.5\n",
      "[2, 5, 'Faiz', 'Ali', 65.4, 65.4, False, 2, 'babaammar', 3.5, False]\n"
     ]
    },
    {
     "data": {
      "text/plain": [
       "2"
      ]
     },
     "execution_count": 164,
     "metadata": {},
     "output_type": "execute_result"
    }
   ],
   "source": [
    "list1 = [2,\"babaammar\",3.5,False]\n",
    "list1\n",
    "print( \"type = \", type(list1) ,\"   length =\", len(list1), \"   At index 2 is = \", list1[2] )\n",
    "\n",
    "list2 = [2,5, \"Faiz\", \"Ali\", 65.4, 65.4, False]\n",
    "print(list2 + list1)\n",
    "\n",
    "list1.reverse()\n",
    "list1\n",
    "\n",
    "list1.append(\"help me\")\n",
    "list1.append(\"Thank u\")\n",
    "list1\n",
    "\n",
    "# Assignment Tutorial-5 DataStructure: Count the number of same element in List \n",
    "list2 = [2,5, \"Faiz\", \"Ali\", 65.4, 65.4, False]\n",
    "list2.count(65.4)\n"
   ]
  },
  {
   "cell_type": "code",
   "execution_count": 152,
   "metadata": {},
   "outputs": [
    {
     "data": {
      "text/plain": [
       "2"
      ]
     },
     "execution_count": 152,
     "metadata": {},
     "output_type": "execute_result"
    }
   ],
   "source": [
    "\n",
    "# Assignment Tutorial-5 DataStructure: Count the number of same element in List \n",
    "list2 = [2,5, \"Faiz\", \"Ali\", 65.4, 65.4, False]\n",
    "list2.count(65.4)"
   ]
  },
  {
   "cell_type": "code",
   "execution_count": 148,
   "metadata": {},
   "outputs": [
    {
     "data": {
      "text/plain": [
       "[4, 15, 24, 61, 64, 90, 94]"
      ]
     },
     "execution_count": 148,
     "metadata": {},
     "output_type": "execute_result"
    }
   ],
   "source": [
    "# List sorted\n",
    "list4 = [4,64,61,24,15, 90, 94]\n",
    "list4.sort()\n",
    "list4"
   ]
  },
  {
   "cell_type": "code",
   "execution_count": 147,
   "metadata": {},
   "outputs": [
    {
     "data": {
      "text/plain": [
       "[False,\n",
       " 3.5,\n",
       " 'babaammar',\n",
       " 2,\n",
       " 'help me',\n",
       " 'Thank u',\n",
       " 2,\n",
       " 5,\n",
       " 'Faiz',\n",
       " 'Ali',\n",
       " 65.4,\n",
       " 65.4,\n",
       " False]"
      ]
     },
     "execution_count": 147,
     "metadata": {},
     "output_type": "execute_result"
    }
   ],
   "source": [
    "list3 = list1 + list2\n",
    "list3"
   ]
  },
  {
   "cell_type": "code",
   "execution_count": 160,
   "metadata": {},
   "outputs": [
    {
     "data": {
      "text/plain": [
       "[False, 'Ali', 3.5, 'babaammar', 2, 'help me', 'Ali', 'Thank u']"
      ]
     },
     "execution_count": 160,
     "metadata": {},
     "output_type": "execute_result"
    }
   ],
   "source": [
    "list1.insert(5,\"Ali\")\n",
    "list1.insert(1,\"Ali\")\n",
    "list1"
   ]
  },
  {
   "cell_type": "code",
   "execution_count": 165,
   "metadata": {},
   "outputs": [
    {
     "data": {
      "text/plain": [
       "[False, 3.5, 'babaammar', 2, 'help me', 'Thank u', 'h', 'o', 'p', 'e']"
      ]
     },
     "execution_count": 165,
     "metadata": {},
     "output_type": "execute_result"
    }
   ],
   "source": [
    "list1.extend('hope')\n",
    "list1"
   ]
  },
  {
   "cell_type": "code",
   "execution_count": 167,
   "metadata": {},
   "outputs": [
    {
     "data": {
      "text/plain": [
       "[]"
      ]
     },
     "execution_count": 167,
     "metadata": {},
     "output_type": "execute_result"
    }
   ],
   "source": [
    "list1.clear()\n",
    "list1"
   ]
  },
  {
   "cell_type": "markdown",
   "metadata": {},
   "source": [
    "### Dictionary\n",
    "- An  inordered collection of element\n",
    "- key and value\n",
    "- curly braces of brackets {}\n",
    "- Mutable change the values"
   ]
  },
  {
   "cell_type": "code",
   "execution_count": 62,
   "metadata": {},
   "outputs": [
    {
     "name": "stdout",
     "output_type": "stream",
     "text": [
      "{'Samosa': 25, 'pakora': 100, 'Rita': 21, 'chicken': 45, 'tikk': 50, 'Dates': 115, 'Choclates': 200, 'Sweets': 400}\n"
     ]
    },
    {
     "data": {
      "text/plain": [
       "{'Dates': 115, 'Choclates': 200, 'Sweets': 400}"
      ]
     },
     "execution_count": 62,
     "metadata": {},
     "output_type": "execute_result"
    }
   ],
   "source": [
    "food1= {'Samosa':25 , 'pakora' : 100, 'Rita' : 21, 'chicken': 45}\n",
    "food1\n",
    "type(food1)\n",
    "\n",
    "# Extract data\n",
    "keys1 = food1.keys()\n",
    "keys1\n",
    "\n",
    "Values1 = food1.values()\n",
    "Values1\n",
    "\n",
    "# Adding new element / Mutating\n",
    "food1[\"tikk\"] = 88\n",
    "food1\n",
    "#  update Values\n",
    "food1[\"tikk\"] = 50\n",
    "food1\n",
    "\n",
    "food2 = {\"Dates\":115 , \"Choclates\": 200 , \"Sweets\": 400}\n",
    "food2\n",
    "\n",
    "# Concatinate\n",
    "food1.update(food2)\n",
    "print(food1)\n",
    "food2"
   ]
  },
  {
   "cell_type": "code",
   "execution_count": 125,
   "metadata": {},
   "outputs": [
    {
     "data": {
      "text/plain": [
       "dict_items([('Samosa', 25), ('pakora', 100), ('Rita', 21), ('chicken', 45), ('tikk', 50), ('Dates', 115), ('Choclates', 200), ('Sweets', 400)])"
      ]
     },
     "execution_count": 125,
     "metadata": {},
     "output_type": "execute_result"
    }
   ],
   "source": [
    "food1.items()"
   ]
  },
  {
   "cell_type": "code",
   "execution_count": 126,
   "metadata": {},
   "outputs": [
    {
     "data": {
      "text/plain": [
       "115"
      ]
     },
     "execution_count": 126,
     "metadata": {},
     "output_type": "execute_result"
    }
   ],
   "source": [
    "food1.get(\"Dates\")"
   ]
  },
  {
   "cell_type": "code",
   "execution_count": 135,
   "metadata": {},
   "outputs": [
    {
     "data": {
      "text/plain": [
       "{'Samosa': 25,\n",
       " 'pakora': 100,\n",
       " 'Rita': 21,\n",
       " 'chicken': 45,\n",
       " 'tikk': 50,\n",
       " 'Dates': 115,\n",
       " 'Choclates': 200,\n",
       " 'Sweets': 400}"
      ]
     },
     "execution_count": 135,
     "metadata": {},
     "output_type": "execute_result"
    }
   ],
   "source": [
    "food_copy=food1.copy()\n",
    "food_copy"
   ]
  },
  {
   "cell_type": "markdown",
   "metadata": {},
   "source": [
    "### SETS\n",
    "- Unordered and unidexed\n",
    "- curly braces , {} used\n",
    "- No duplicates"
   ]
  },
  {
   "cell_type": "code",
   "execution_count": 106,
   "metadata": {},
   "outputs": [
    {
     "data": {
      "text/plain": [
       "{1, 4.1, 5, 6, 'Topi', 'ammar', 'faiz'}"
      ]
     },
     "execution_count": 106,
     "metadata": {},
     "output_type": "execute_result"
    }
   ],
   "source": [
    "s1 = {1,5,6,4.1, 'ammar', 'khan', 'Topi',True}\n",
    "s1\n",
    "s1.add(\"faiz\")\n",
    "s1\n",
    "s1.add(\"ammar\") # Duplicate not added\n",
    "s1\n",
    "s1.remove(\"khan\")\n",
    "s1"
   ]
  },
  {
   "cell_type": "code",
   "execution_count": 109,
   "metadata": {},
   "outputs": [
    {
     "name": "stdout",
     "output_type": "stream",
     "text": [
      "{1, 4.1, 5, 6, 'ammar', 'Topi', 'Ali', 9, 'pyton', 'khan'}\n",
      "{1, 'ammar', 5, 6, 'khan'}\n",
      "{4.1, 5, 'Topi', 6, 'khan'}\n"
     ]
    }
   ],
   "source": [
    "# Update Function\n",
    "s1 = {1,5,6,4.1, 'ammar', 'khan', 'Topi',True}\n",
    "s2 = { 9, 1, 'pyton', 'ammar', 'Ali'}\n",
    "s1.update(s2) \n",
    "print(s1)\n"
   ]
  },
  {
   "cell_type": "code",
   "execution_count": null,
   "metadata": {},
   "outputs": [],
   "source": [
    "# Difference Function\n",
    "s1 = {1,5,6,4.1, 'ammar', 'khan', 'Topi',True}\n",
    "s3 = s1.difference({\"Topi\",4.1})\n",
    "print(s3)"
   ]
  },
  {
   "cell_type": "code",
   "execution_count": 110,
   "metadata": {},
   "outputs": [
    {
     "data": {
      "text/plain": [
       "{4.1, 'Topi'}"
      ]
     },
     "execution_count": 110,
     "metadata": {},
     "output_type": "execute_result"
    }
   ],
   "source": [
    "# difference_update\n",
    "s1.difference_update(s3)\n",
    "s1"
   ]
  },
  {
   "cell_type": "code",
   "execution_count": 123,
   "metadata": {},
   "outputs": [
    {
     "name": "stdout",
     "output_type": "stream",
     "text": [
      "{1, 'ammar'} {1, 4.1, 5, 6, 'ammar', 'Topi', 'Ali', 9, 'pyton', 'khan'}\n"
     ]
    }
   ],
   "source": [
    "# Union and Intersection of Sets\n",
    "s1 = {1,5,6,4.1, 'ammar', 'khan', 'Topi',True}\n",
    "s2 = { 9, 1, 'pyton', 'ammar', 'Ali'}\n",
    "s3= s1.intersection(s2)\n",
    "s4 = s1.union(s2)\n",
    "print(s3 ,s4)\n"
   ]
  },
  {
   "cell_type": "code",
   "execution_count": 124,
   "metadata": {},
   "outputs": [
    {
     "name": "stdout",
     "output_type": "stream",
     "text": [
      "True False False\n",
      "False False True\n",
      "None 1\n"
     ]
    },
    {
     "ename": "NameError",
     "evalue": "name 's' is not defined",
     "output_type": "error",
     "traceback": [
      "\u001b[1;31m---------------------------------------------------------------------------\u001b[0m",
      "\u001b[1;31mNameError\u001b[0m                                 Traceback (most recent call last)",
      "\u001b[1;32m<ipython-input-124-642ba69760e7>\u001b[0m in \u001b[0;36m<module>\u001b[1;34m\u001b[0m\n\u001b[0;32m      2\u001b[0m \u001b[0mprint\u001b[0m\u001b[1;33m(\u001b[0m\u001b[0ms4\u001b[0m\u001b[1;33m.\u001b[0m\u001b[0missubset\u001b[0m\u001b[1;33m(\u001b[0m\u001b[0ms1\u001b[0m\u001b[1;33m)\u001b[0m \u001b[1;33m,\u001b[0m \u001b[0ms1\u001b[0m\u001b[1;33m.\u001b[0m\u001b[0missubset\u001b[0m\u001b[1;33m(\u001b[0m\u001b[0ms2\u001b[0m\u001b[1;33m)\u001b[0m\u001b[1;33m,\u001b[0m \u001b[0ms3\u001b[0m\u001b[1;33m.\u001b[0m\u001b[0missubset\u001b[0m\u001b[1;33m(\u001b[0m\u001b[0ms1\u001b[0m\u001b[1;33m)\u001b[0m\u001b[1;33m)\u001b[0m\u001b[1;33m\u001b[0m\u001b[1;33m\u001b[0m\u001b[0m\n\u001b[0;32m      3\u001b[0m \u001b[0mprint\u001b[0m\u001b[1;33m(\u001b[0m\u001b[0ms4\u001b[0m\u001b[1;33m.\u001b[0m\u001b[0mclear\u001b[0m\u001b[1;33m(\u001b[0m\u001b[1;33m)\u001b[0m \u001b[1;33m,\u001b[0m \u001b[0ms1\u001b[0m\u001b[1;33m.\u001b[0m\u001b[0mpop\u001b[0m\u001b[1;33m(\u001b[0m\u001b[1;33m)\u001b[0m\u001b[1;33m)\u001b[0m\u001b[1;33m\u001b[0m\u001b[1;33m\u001b[0m\u001b[0m\n\u001b[1;32m----> 4\u001b[1;33m \u001b[0mprint\u001b[0m\u001b[1;33m(\u001b[0m\u001b[0ms\u001b[0m\u001b[1;33m)\u001b[0m\u001b[1;33m\u001b[0m\u001b[1;33m\u001b[0m\u001b[0m\n\u001b[0m",
      "\u001b[1;31mNameError\u001b[0m: name 's' is not defined"
     ]
    }
   ],
   "source": [
    "print(s4.issuperset(s1) , s1.issuperset(s2) , s3.issuperset(s1))\n",
    "print(s4.issubset(s1) , s1.issubset(s2), s3.issubset(s1))\n",
    "print(s4.clear() , s1.pop())\n",
    "print(s)"
   ]
  },
  {
   "cell_type": "code",
   "execution_count": null,
   "metadata": {},
   "outputs": [],
   "source": []
  }
 ],
 "metadata": {
  "interpreter": {
   "hash": "7691af4ab49372eabe66fbd0e4ad00c36d13c80bfab02005350e593f0ce5b39a"
  },
  "kernelspec": {
   "display_name": "Python 3.8.8 64-bit ('base': conda)",
   "language": "python",
   "name": "python3"
  },
  "language_info": {
   "codemirror_mode": {
    "name": "ipython",
    "version": 3
   },
   "file_extension": ".py",
   "mimetype": "text/x-python",
   "name": "python",
   "nbconvert_exporter": "python",
   "pygments_lexer": "ipython3",
   "version": "3.8.8"
  },
  "orig_nbformat": 4
 },
 "nbformat": 4,
 "nbformat_minor": 2
}
